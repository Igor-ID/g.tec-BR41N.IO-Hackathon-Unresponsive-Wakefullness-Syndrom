{
  "cells": [
    {
      "cell_type": "markdown",
      "metadata": {
        "id": "view-in-github",
        "colab_type": "text"
      },
      "source": [
        "<a href=\"https://colab.research.google.com/github/Igor-ID/g.tec-Hackathon-Unresponsive-Wakefullness-Syndrom-Data-Analysis/blob/main/gtec_hackathon_uws_p300.ipynb\" target=\"_parent\"><img src=\"https://colab.research.google.com/assets/colab-badge.svg\" alt=\"Open In Colab\"/></a>"
      ]
    },
    {
      "cell_type": "code",
      "execution_count": 2,
      "metadata": {
        "id": "Pr1k2Ge7lFo_",
        "colab": {
          "base_uri": "https://localhost:8080/"
        },
        "outputId": "18960bc2-e102-41cd-9289-5fb331d42c02"
      },
      "outputs": [
        {
          "output_type": "stream",
          "name": "stdout",
          "text": [
            "Collecting mne\n",
            "  Downloading mne-1.0.2-py3-none-any.whl (7.5 MB)\n",
            "\u001b[K     |████████████████████████████████| 7.5 MB 23.0 MB/s \n",
            "\u001b[?25hRequirement already satisfied: decorator in /usr/local/lib/python3.7/dist-packages (from mne) (4.4.2)\n",
            "Requirement already satisfied: pooch>=1.5 in /usr/local/lib/python3.7/dist-packages (from mne) (1.6.0)\n",
            "Requirement already satisfied: tqdm in /usr/local/lib/python3.7/dist-packages (from mne) (4.64.0)\n",
            "Requirement already satisfied: matplotlib in /usr/local/lib/python3.7/dist-packages (from mne) (3.2.2)\n",
            "Requirement already satisfied: jinja2 in /usr/local/lib/python3.7/dist-packages (from mne) (2.11.3)\n",
            "Requirement already satisfied: packaging in /usr/local/lib/python3.7/dist-packages (from mne) (21.3)\n",
            "Requirement already satisfied: scipy>=1.1.0 in /usr/local/lib/python3.7/dist-packages (from mne) (1.4.1)\n",
            "Requirement already satisfied: numpy>=1.15.4 in /usr/local/lib/python3.7/dist-packages (from mne) (1.21.6)\n",
            "Requirement already satisfied: appdirs>=1.3.0 in /usr/local/lib/python3.7/dist-packages (from pooch>=1.5->mne) (1.4.4)\n",
            "Requirement already satisfied: requests>=2.19.0 in /usr/local/lib/python3.7/dist-packages (from pooch>=1.5->mne) (2.23.0)\n",
            "Requirement already satisfied: pyparsing!=3.0.5,>=2.0.2 in /usr/local/lib/python3.7/dist-packages (from packaging->mne) (3.0.8)\n",
            "Requirement already satisfied: chardet<4,>=3.0.2 in /usr/local/lib/python3.7/dist-packages (from requests>=2.19.0->pooch>=1.5->mne) (3.0.4)\n",
            "Requirement already satisfied: certifi>=2017.4.17 in /usr/local/lib/python3.7/dist-packages (from requests>=2.19.0->pooch>=1.5->mne) (2021.10.8)\n",
            "Requirement already satisfied: idna<3,>=2.5 in /usr/local/lib/python3.7/dist-packages (from requests>=2.19.0->pooch>=1.5->mne) (2.10)\n",
            "Requirement already satisfied: urllib3!=1.25.0,!=1.25.1,<1.26,>=1.21.1 in /usr/local/lib/python3.7/dist-packages (from requests>=2.19.0->pooch>=1.5->mne) (1.24.3)\n",
            "Requirement already satisfied: MarkupSafe>=0.23 in /usr/local/lib/python3.7/dist-packages (from jinja2->mne) (2.0.1)\n",
            "Requirement already satisfied: cycler>=0.10 in /usr/local/lib/python3.7/dist-packages (from matplotlib->mne) (0.11.0)\n",
            "Requirement already satisfied: kiwisolver>=1.0.1 in /usr/local/lib/python3.7/dist-packages (from matplotlib->mne) (1.4.2)\n",
            "Requirement already satisfied: python-dateutil>=2.1 in /usr/local/lib/python3.7/dist-packages (from matplotlib->mne) (2.8.2)\n",
            "Requirement already satisfied: typing-extensions in /usr/local/lib/python3.7/dist-packages (from kiwisolver>=1.0.1->matplotlib->mne) (4.2.0)\n",
            "Requirement already satisfied: six>=1.5 in /usr/local/lib/python3.7/dist-packages (from python-dateutil>=2.1->matplotlib->mne) (1.15.0)\n",
            "Installing collected packages: mne\n",
            "Successfully installed mne-1.0.2\n",
            "Mounted at /content/drive\n"
          ]
        }
      ],
      "source": [
        "%matplotlib inline\n",
        "!pip install mne\n",
        "import mne\n",
        "import matplotlib.pyplot as plt\n",
        "import scipy\n",
        "import os\n",
        "from scipy.io import loadmat\n",
        "import numpy as np\n",
        "import mne\n",
        "import pandas as pd\n",
        "from mne.decoding import Vectorizer\n",
        "from sklearn.preprocessing import StandardScaler\n",
        "from sklearn.pipeline import make_pipeline\n",
        "from sklearn.model_selection import cross_val_score\n",
        "from sklearn.discriminant_analysis import LinearDiscriminantAnalysis\n",
        "from google.colab import drive\n",
        "drive.mount('/content/drive')\n",
        "\n"
      ]
    },
    {
      "cell_type": "markdown",
      "source": [
        "Helper func to create epochs object"
      ],
      "metadata": {
        "id": "aGqGV4DypX9w"
      }
    },
    {
      "cell_type": "code",
      "source": [
        "# file_name = \"/content/drive/My Drive/data/P2_high1.mat\"\n",
        "# # file_name2 = \"data/P1_high2.mat\"\n",
        "# data = loadmat(file_name)\n",
        "# # data2 = loadmat(file_name2)\n",
        "# eeg_data = data['y']\n",
        "# eeg_data.shape\n",
        "# helper func to create epoch object\n",
        "def create_epochs(starting_dir=\"/content/drive/My Drive/data/\", item='P1_high1.mat'):\n",
        "    eeg_ch = ['Fz', 'C3', 'Cz', 'C4', 'CP1', 'CPz', 'CP2', 'Pz']\n",
        "    fs = 256\n",
        "    n_channels = 8\n",
        "    event_id = dict(distractor=-1, rest=0, nontarget=1, target=2)\n",
        "    info = mne.create_info(ch_names=eeg_ch, sfreq=fs, ch_types='eeg')\n",
        "    info.set_montage('standard_1020')\n",
        "    file_name = os.path.join(starting_dir, item)\n",
        "    data = loadmat(file_name)\n",
        "    eeg_data = data['y']\n",
        "\n",
        "    raw = mne.io.RawArray(eeg_data.T, info)\n",
        "    stim_data = data['trig']\n",
        "    stim_data[stim_data == -1] = 3  # change stimulus negative value of -1 to 3 for correct stimulus reading by mne\n",
        "    info_event = mne.create_info(['STI'], sfreq=fs, ch_types='stim')\n",
        "    stim_raw = mne.io.RawArray(stim_data.T, info_event)\n",
        "    raw.add_channels([stim_raw], force_update_info=True)\n",
        "\n",
        "    events = mne.find_events(raw, stim_channel='STI')\n",
        "\n",
        "    raw.notch_filter(freqs=50)  # creating band-stop filter to eliminate power line noise (US - 60Hz, EU - 50Hz)\n",
        "    raw.filter(l_freq=0.1, h_freq=30)  # creating band-pass filter, to eliminate non-physiological frequencies\n",
        "\n",
        "    epochs = mne.Epochs(raw, events, tmin=-0.1, tmax=0.6, preload=True)\n",
        "    return epochs"
      ],
      "metadata": {
        "id": "rF02prwonMuZ"
      },
      "execution_count": 7,
      "outputs": []
    },
    {
      "cell_type": "markdown",
      "metadata": {
        "id": "-i_g0GwZlFpH"
      },
      "source": [
        "Can we predict trial type from EEG activity?"
      ]
    },
    {
      "cell_type": "code",
      "execution_count": 8,
      "metadata": {
        "id": "AUk-1b_OlFpK",
        "colab": {
          "base_uri": "https://localhost:8080/"
        },
        "outputId": "cdfe215b-c195-45ba-acc6-6c01b058d4fe"
      },
      "outputs": [
        {
          "output_type": "stream",
          "name": "stdout",
          "text": [
            "Creating RawArray with float64 data, n_channels=8, n_times=38976\n",
            "    Range : 0 ... 38975 =      0.000 ...   152.246 secs\n",
            "Ready.\n",
            "Creating RawArray with float64 data, n_channels=1, n_times=38976\n",
            "    Range : 0 ... 38975 =      0.000 ...   152.246 secs\n",
            "Ready.\n",
            "480 events found\n",
            "Event IDs: [1 2 3]\n",
            "Setting up band-stop filter from 49 - 51 Hz\n",
            "\n",
            "FIR filter parameters\n",
            "---------------------\n",
            "Designing a one-pass, zero-phase, non-causal bandstop filter:\n",
            "- Windowed time-domain design (firwin) method\n",
            "- Hamming window with 0.0194 passband ripple and 53 dB stopband attenuation\n",
            "- Lower passband edge: 49.38\n",
            "- Lower transition bandwidth: 0.50 Hz (-6 dB cutoff frequency: 49.12 Hz)\n",
            "- Upper passband edge: 50.62 Hz\n",
            "- Upper transition bandwidth: 0.50 Hz (-6 dB cutoff frequency: 50.88 Hz)\n",
            "- Filter length: 1691 samples (6.605 sec)\n",
            "\n",
            "Filtering raw data in 1 contiguous segment\n",
            "Setting up band-pass filter from 0.1 - 30 Hz\n",
            "\n",
            "FIR filter parameters\n",
            "---------------------\n",
            "Designing a one-pass, zero-phase, non-causal bandpass filter:\n",
            "- Windowed time-domain design (firwin) method\n",
            "- Hamming window with 0.0194 passband ripple and 53 dB stopband attenuation\n",
            "- Lower passband edge: 0.10\n",
            "- Lower transition bandwidth: 0.10 Hz (-6 dB cutoff frequency: 0.05 Hz)\n",
            "- Upper passband edge: 30.00 Hz\n",
            "- Upper transition bandwidth: 7.50 Hz (-6 dB cutoff frequency: 33.75 Hz)\n",
            "- Filter length: 8449 samples (33.004 sec)\n",
            "\n",
            "Not setting metadata\n",
            "480 matching events found\n",
            "Setting baseline interval to [-0.1015625, 0.0] sec\n",
            "Applying baseline correction (mode: mean)\n",
            "0 projection items activated\n",
            "Using data from preloaded Raw for 480 events and 181 original time points ...\n",
            "0 bad epochs dropped\n"
          ]
        },
        {
          "output_type": "execute_result",
          "data": {
            "text/plain": [
              "(array([[[-17.39263534, -19.19282209, -21.44507722, ...,   5.34220556,\n",
              "           -0.25624422,  -4.81489551],\n",
              "         [-10.33766136, -12.08048818, -14.19101489, ...,   3.83773912,\n",
              "            0.4088002 ,  -2.72862412],\n",
              "         [-15.03758017, -16.86901221, -18.74485438, ...,  10.10169478,\n",
              "            4.7204059 ,  -0.14130736],\n",
              "         ...,\n",
              "         [-12.61412642, -14.59197742, -16.31698682, ...,   4.52273181,\n",
              "           -1.19877254,  -6.40834764],\n",
              "         [-11.44505764, -13.29306011, -15.29070655, ...,  16.07607512,\n",
              "           10.17461714,   4.31416866],\n",
              "         [ -8.68670464, -10.89000821, -12.98459907, ...,  10.58791633,\n",
              "            4.85713451,  -0.78372032]],\n",
              " \n",
              "        [[-23.69125524, -25.95330725, -28.42228384, ...,  23.40558716,\n",
              "           25.39678315,  28.48444067],\n",
              "         [ -7.26549756,  -9.73585104, -11.55358044, ...,  21.8698838 ,\n",
              "           22.77407955,  24.55957299],\n",
              "         [-25.87945667, -26.75124647, -27.3989142 , ...,  13.03378935,\n",
              "           14.47135197,  17.32596474],\n",
              "         ...,\n",
              "         [-22.22987573, -23.04720077, -23.46959266, ...,  -2.54073119,\n",
              "           -1.38367036,   1.36119938],\n",
              "         [-27.35515345, -27.5225924 , -28.0436244 , ...,  -3.21233443,\n",
              "           -1.96070899,   1.30163532],\n",
              "         [-20.32006675, -20.19014752, -19.93287946, ...,  -3.00207054,\n",
              "           -2.46999932,  -0.46921514]],\n",
              " \n",
              "        [[  3.68723987,   3.34468624,   2.57901244, ...,   2.78405163,\n",
              "            3.20842819,   2.88267035],\n",
              "         [  9.69512653,   8.44376527,   6.77783213, ...,   4.53685987,\n",
              "            5.02141367,   4.42456657],\n",
              "         [  5.60136461,   4.99516328,   4.54003077, ...,   6.07164789,\n",
              "            6.95170933,   6.5058388 ],\n",
              "         ...,\n",
              "         [  7.44957398,   7.17652733,   6.79388453, ...,   6.64610033,\n",
              "            7.41202214,   6.55977715],\n",
              "         [  5.00728432,   3.93852316,   2.80983097, ...,   4.12700014,\n",
              "            4.92855357,   4.27619454],\n",
              "         [  5.99659641,   5.72713914,   5.21067835, ...,   8.1092269 ,\n",
              "            9.04085781,   8.62134319]],\n",
              " \n",
              "        ...,\n",
              " \n",
              "        [[ 41.23553657,  40.82341077,  36.86248354, ...,   1.84825262,\n",
              "            3.91107204,   7.35479936],\n",
              "         [ 28.83086174,  29.92533102,  27.06603383, ...,  14.26724232,\n",
              "           16.3814672 ,  19.7098288 ],\n",
              "         [ 35.56240275,  35.33956284,  31.10148989, ...,  11.1523638 ,\n",
              "           13.830312  ,  18.04808515],\n",
              "         ...,\n",
              "         [ 27.00244142,  27.19802629,  23.40316714, ...,  18.33055609,\n",
              "           21.53504206,  26.28480761],\n",
              "         [ 26.37460367,  26.25827738,  22.2632048 , ...,   9.38483813,\n",
              "           13.15821118,  18.93408409],\n",
              "         [ 20.95719695,  20.40269537,  16.4932768 , ...,  17.31264082,\n",
              "           20.80912999,  25.73008241]],\n",
              " \n",
              "        [[-12.74404441, -12.52211072, -11.01814978, ..., -15.31243859,\n",
              "          -17.95659418, -19.19073526],\n",
              "         [-11.05386794, -12.60428395, -12.94289692, ..., -12.75348229,\n",
              "          -12.67064451, -10.15280141],\n",
              "         [ -1.81529029,  -2.11746873,  -1.57962436, ...,  -9.4637757 ,\n",
              "          -10.9990227 , -11.09198188],\n",
              "         ...,\n",
              "         [  7.3499731 ,   6.11814904,   5.67623975, ...,  -8.74225509,\n",
              "           -9.62066848,  -9.00937838],\n",
              "         [  7.83953786,   7.04395455,   7.27847141, ...,  -8.30494369,\n",
              "          -10.34470672, -10.79667999],\n",
              "         [ 11.02701687,   9.93260627,   9.89862628, ...,  -3.74563172,\n",
              "           -5.49428044,  -5.38159392]],\n",
              " \n",
              "        [[  9.09872111,   7.64996711,   4.97463677, ...,  43.28136505,\n",
              "           46.17467557,  48.81326936],\n",
              "         [ 11.14340303,   9.82899267,   7.23958479, ...,  40.70452552,\n",
              "           41.86785164,  44.06455956],\n",
              "         [ -1.15138453,  -2.32821132,  -4.63282336, ...,  37.31369295,\n",
              "           38.78066801,  40.39625398],\n",
              "         ...,\n",
              "         [ -8.67535034,  -9.77740538, -12.3851585 , ...,  35.33923976,\n",
              "           36.46898828,  38.59761409],\n",
              "         [ -6.9339427 ,  -7.64186841, -10.02408922, ...,  32.77748272,\n",
              "           34.85472326,  37.72298715],\n",
              "         [-13.94369333, -14.76314942, -17.04076118, ...,  29.70341599,\n",
              "           31.12316289,  33.87689502]]]),\n",
              " array([2, 3, 3, 3, 3, 3, 1, 3, 2, 3, 3, 3, 3, 3, 3, 1, 3, 3, 3, 2, 3, 3,\n",
              "        3, 1, 3, 3, 2, 3, 3, 3, 1, 3, 1, 3, 2, 3, 3, 3, 3, 3, 3, 1, 3, 3,\n",
              "        3, 2, 3, 3, 2, 1, 3, 3, 3, 3, 3, 3, 1, 3, 2, 3, 3, 3, 3, 3, 2, 3,\n",
              "        3, 3, 3, 3, 1, 3, 3, 2, 3, 3, 3, 1, 3, 3, 2, 3, 3, 3, 3, 3, 1, 3,\n",
              "        3, 3, 1, 3, 2, 3, 3, 3, 3, 3, 3, 3, 2, 1, 3, 3, 3, 2, 3, 3, 1, 3,\n",
              "        3, 3, 1, 3, 3, 3, 3, 3, 3, 2, 2, 3, 3, 3, 1, 3, 3, 3, 3, 3, 3, 3,\n",
              "        3, 3, 1, 2, 3, 3, 3, 3, 3, 3, 2, 1, 3, 2, 3, 3, 1, 3, 3, 3, 3, 3,\n",
              "        3, 3, 3, 1, 3, 2, 1, 3, 3, 2, 3, 3, 3, 3, 3, 1, 3, 3, 3, 3, 2, 3,\n",
              "        3, 3, 3, 3, 3, 3, 1, 2, 1, 3, 2, 3, 3, 3, 3, 3, 2, 1, 3, 3, 3, 3,\n",
              "        3, 3, 3, 3, 3, 1, 3, 3, 3, 2, 3, 3, 3, 1, 3, 3, 3, 2, 3, 3, 1, 3,\n",
              "        2, 3, 3, 3, 3, 1, 3, 3, 2, 3, 3, 3, 2, 3, 1, 3, 3, 3, 3, 3, 3, 3,\n",
              "        1, 3, 2, 3, 3, 3, 2, 3, 1, 3, 3, 3, 3, 3, 3, 2, 3, 1, 3, 3, 3, 3,\n",
              "        3, 3, 3, 3, 1, 3, 2, 3, 3, 3, 3, 1, 2, 3, 3, 3, 2, 3, 3, 3, 3, 3,\n",
              "        1, 3, 1, 3, 3, 2, 3, 3, 3, 3, 2, 3, 3, 3, 3, 3, 1, 3, 3, 3, 3, 3,\n",
              "        3, 2, 1, 3, 3, 3, 1, 3, 3, 2, 3, 3, 3, 1, 3, 3, 3, 2, 3, 3, 3, 3,\n",
              "        3, 3, 3, 3, 1, 2, 3, 3, 3, 3, 2, 3, 3, 1, 3, 3, 3, 3, 3, 3, 1, 2,\n",
              "        1, 3, 3, 2, 3, 3, 3, 3, 3, 1, 3, 2, 3, 3, 3, 3, 3, 2, 3, 1, 3, 3,\n",
              "        3, 3, 3, 3, 3, 1, 3, 3, 2, 3, 3, 3, 3, 1, 3, 3, 2, 3, 3, 3, 2, 1,\n",
              "        3, 3, 3, 3, 3, 2, 3, 1, 3, 3, 3, 3, 3, 3, 3, 1, 3, 2, 3, 3, 3, 3,\n",
              "        3, 3, 3, 3, 1, 2, 3, 3, 3, 3, 1, 3, 2, 3, 3, 3, 3, 3, 1, 2, 3, 3,\n",
              "        3, 1, 3, 2, 3, 3, 3, 3, 3, 3, 2, 1, 3, 3, 3, 3, 1, 2, 3, 3, 3, 3,\n",
              "        3, 3, 3, 2, 1, 3, 3, 3, 3, 3, 2, 3, 3, 3, 1, 3, 3, 3]))"
            ]
          },
          "metadata": {},
          "execution_count": 8
        }
      ],
      "source": [
        "epochs_train = create_epochs()\n",
        "epochs_train.pick_types(eeg=True)\n",
        "# event_ids = {'distractor': 3, 'rest': 0, 'nontarget': 1, 'target': 2}\n",
        "X = epochs_train.get_data()  # features\n",
        "y = epochs_train.events[:, -1]  # labels\n",
        "X, y"
      ]
    },
    {
      "cell_type": "code",
      "execution_count": 9,
      "metadata": {
        "id": "f2Hpi1KWlFpM",
        "colab": {
          "base_uri": "https://localhost:8080/"
        },
        "outputId": "8054cc1a-c624-48aa-965e-a47835701ece"
      },
      "outputs": [
        {
          "output_type": "execute_result",
          "data": {
            "text/plain": [
              "((480, 8, 181), (480,))"
            ]
          },
          "metadata": {},
          "execution_count": 9
        }
      ],
      "source": [
        "# shape\n",
        "X.shape, y.shape"
      ]
    },
    {
      "cell_type": "code",
      "execution_count": 10,
      "metadata": {
        "id": "LPlpGFYxlFpP",
        "colab": {
          "base_uri": "https://localhost:8080/"
        },
        "outputId": "f2ed7cb3-83f2-46d9-ae9e-d0921d060ac3"
      },
      "outputs": [
        {
          "output_type": "stream",
          "name": "stdout",
          "text": [
            "Creating RawArray with float64 data, n_channels=8, n_times=39000\n",
            "    Range : 0 ... 38999 =      0.000 ...   152.340 secs\n",
            "Ready.\n",
            "Creating RawArray with float64 data, n_channels=1, n_times=39000\n",
            "    Range : 0 ... 38999 =      0.000 ...   152.340 secs\n",
            "Ready.\n",
            "480 events found\n",
            "Event IDs: [1 2 3]\n",
            "Setting up band-stop filter from 49 - 51 Hz\n",
            "\n",
            "FIR filter parameters\n",
            "---------------------\n",
            "Designing a one-pass, zero-phase, non-causal bandstop filter:\n",
            "- Windowed time-domain design (firwin) method\n",
            "- Hamming window with 0.0194 passband ripple and 53 dB stopband attenuation\n",
            "- Lower passband edge: 49.38\n",
            "- Lower transition bandwidth: 0.50 Hz (-6 dB cutoff frequency: 49.12 Hz)\n",
            "- Upper passband edge: 50.62 Hz\n",
            "- Upper transition bandwidth: 0.50 Hz (-6 dB cutoff frequency: 50.88 Hz)\n",
            "- Filter length: 1691 samples (6.605 sec)\n",
            "\n",
            "Filtering raw data in 1 contiguous segment\n",
            "Setting up band-pass filter from 0.1 - 30 Hz\n",
            "\n",
            "FIR filter parameters\n",
            "---------------------\n",
            "Designing a one-pass, zero-phase, non-causal bandpass filter:\n",
            "- Windowed time-domain design (firwin) method\n",
            "- Hamming window with 0.0194 passband ripple and 53 dB stopband attenuation\n",
            "- Lower passband edge: 0.10\n",
            "- Lower transition bandwidth: 0.10 Hz (-6 dB cutoff frequency: 0.05 Hz)\n",
            "- Upper passband edge: 30.00 Hz\n",
            "- Upper transition bandwidth: 7.50 Hz (-6 dB cutoff frequency: 33.75 Hz)\n",
            "- Filter length: 8449 samples (33.004 sec)\n",
            "\n",
            "Not setting metadata\n",
            "480 matching events found\n",
            "Setting baseline interval to [-0.1015625, 0.0] sec\n",
            "Applying baseline correction (mode: mean)\n",
            "0 projection items activated\n",
            "Using data from preloaded Raw for 480 events and 181 original time points ...\n",
            "0 bad epochs dropped\n"
          ]
        },
        {
          "output_type": "execute_result",
          "data": {
            "text/plain": [
              "((480, 9, 181), (480,))"
            ]
          },
          "metadata": {},
          "execution_count": 10
        }
      ],
      "source": [
        "epochs_test = create_epochs(item='P1_high2.mat')\n",
        "epochs_test.pick_types(eeg=True)\n",
        "X_test = epochs_test.get_data()  # features\n",
        "y_test = epochs_test.events[:, -1]  # labels\n",
        "X_test.shape, y_test.shape"
      ]
    },
    {
      "cell_type": "markdown",
      "metadata": {
        "id": "MPS0IiVAlFpR"
      },
      "source": [
        "X has the wrong shape - `samples`, `channels`, `times`, should be `samples`, `features`.\n",
        "\n",
        "We can use `mne.decoding.Vectorizer` to correctly shape the data. It fits right into a scikit-learn pipeline."
      ]
    },
    {
      "cell_type": "code",
      "execution_count": 12,
      "metadata": {
        "id": "pxjacE1GlFpS",
        "colab": {
          "base_uri": "https://localhost:8080/"
        },
        "outputId": "bfd13e68-7bea-40ff-a4e8-0a133b5d85ce"
      },
      "outputs": [
        {
          "output_type": "execute_result",
          "data": {
            "text/plain": [
              "Pipeline(steps=[('vectorizer',\n",
              "                 <mne.decoding.transformer.Vectorizer object at 0x7f587e1177d0>),\n",
              "                ('standardscaler', StandardScaler()),\n",
              "                ('lineardiscriminantanalysis', LinearDiscriminantAnalysis())])"
            ]
          },
          "metadata": {},
          "execution_count": 12
        }
      ],
      "source": [
        "clf = make_pipeline(Vectorizer(), StandardScaler(), LinearDiscriminantAnalysis())\n",
        "clf"
      ]
    },
    {
      "cell_type": "markdown",
      "metadata": {
        "id": "fy0LofO5lFpW"
      },
      "source": [
        "The resulting object behaves exactly as any other scikit-learn classifier:"
      ]
    },
    {
      "cell_type": "code",
      "execution_count": 13,
      "metadata": {
        "id": "im_NHsvclFpa",
        "colab": {
          "base_uri": "https://localhost:8080/"
        },
        "outputId": "c53b3a3c-3291-4aa5-9f91-d84f51e57180"
      },
      "outputs": [
        {
          "output_type": "execute_result",
          "data": {
            "text/plain": [
              "Pipeline(steps=[('vectorizer',\n",
              "                 <mne.decoding.transformer.Vectorizer object at 0x7f587e1177d0>),\n",
              "                ('standardscaler', StandardScaler()),\n",
              "                ('lineardiscriminantanalysis', LinearDiscriminantAnalysis())])"
            ]
          },
          "metadata": {},
          "execution_count": 13
        }
      ],
      "source": [
        "clf.fit(X, y)"
      ]
    },
    {
      "cell_type": "code",
      "source": [
        "y_test[:9]"
      ],
      "metadata": {
        "colab": {
          "base_uri": "https://localhost:8080/"
        },
        "id": "l-8rmLFGsbw-",
        "outputId": "8ddf2f38-eb5c-418d-990a-25bb7af65dff"
      },
      "execution_count": 14,
      "outputs": [
        {
          "output_type": "execute_result",
          "data": {
            "text/plain": [
              "array([3, 3, 3, 1, 3, 3, 3, 2, 1])"
            ]
          },
          "metadata": {},
          "execution_count": 14
        }
      ]
    },
    {
      "cell_type": "code",
      "execution_count": 18,
      "metadata": {
        "id": "TAO9SD5glFpc",
        "colab": {
          "base_uri": "https://localhost:8080/",
          "height": 336
        },
        "outputId": "0f93d435-6a58-4e9f-dc86-5791e1d4490f"
      },
      "outputs": [
        {
          "output_type": "error",
          "ename": "ValueError",
          "evalue": "ignored",
          "traceback": [
            "\u001b[0;31m---------------------------------------------------------------------------\u001b[0m",
            "\u001b[0;31mValueError\u001b[0m                                Traceback (most recent call last)",
            "\u001b[0;32m<ipython-input-18-f2a9626496f8>\u001b[0m in \u001b[0;36m<module>\u001b[0;34m()\u001b[0m\n\u001b[1;32m      1\u001b[0m \u001b[0;31m# we have slightly different shape of the initial data, improvements required\u001b[0m\u001b[0;34m\u001b[0m\u001b[0;34m\u001b[0m\u001b[0;34m\u001b[0m\u001b[0m\n\u001b[0;32m----> 2\u001b[0;31m \u001b[0mclf\u001b[0m\u001b[0;34m.\u001b[0m\u001b[0mpredict\u001b[0m\u001b[0;34m(\u001b[0m\u001b[0mX_test\u001b[0m\u001b[0;34m[\u001b[0m\u001b[0;34m:\u001b[0m\u001b[0;36m9\u001b[0m\u001b[0;34m]\u001b[0m\u001b[0;34m)\u001b[0m\u001b[0;34m\u001b[0m\u001b[0;34m\u001b[0m\u001b[0m\n\u001b[0m",
            "\u001b[0;32m/usr/local/lib/python3.7/dist-packages/sklearn/utils/metaestimators.py\u001b[0m in \u001b[0;36m<lambda>\u001b[0;34m(*args, **kwargs)\u001b[0m\n\u001b[1;32m    111\u001b[0m \u001b[0;34m\u001b[0m\u001b[0m\n\u001b[1;32m    112\u001b[0m             \u001b[0;31m# lambda, but not partial, allows help() to work with update_wrapper\u001b[0m\u001b[0;34m\u001b[0m\u001b[0;34m\u001b[0m\u001b[0;34m\u001b[0m\u001b[0m\n\u001b[0;32m--> 113\u001b[0;31m             \u001b[0mout\u001b[0m \u001b[0;34m=\u001b[0m \u001b[0;32mlambda\u001b[0m \u001b[0;34m*\u001b[0m\u001b[0margs\u001b[0m\u001b[0;34m,\u001b[0m \u001b[0;34m**\u001b[0m\u001b[0mkwargs\u001b[0m\u001b[0;34m:\u001b[0m \u001b[0mself\u001b[0m\u001b[0;34m.\u001b[0m\u001b[0mfn\u001b[0m\u001b[0;34m(\u001b[0m\u001b[0mobj\u001b[0m\u001b[0;34m,\u001b[0m \u001b[0;34m*\u001b[0m\u001b[0margs\u001b[0m\u001b[0;34m,\u001b[0m \u001b[0;34m**\u001b[0m\u001b[0mkwargs\u001b[0m\u001b[0;34m)\u001b[0m  \u001b[0;31m# noqa\u001b[0m\u001b[0;34m\u001b[0m\u001b[0;34m\u001b[0m\u001b[0m\n\u001b[0m\u001b[1;32m    114\u001b[0m         \u001b[0;32melse\u001b[0m\u001b[0;34m:\u001b[0m\u001b[0;34m\u001b[0m\u001b[0;34m\u001b[0m\u001b[0m\n\u001b[1;32m    115\u001b[0m \u001b[0;34m\u001b[0m\u001b[0m\n",
            "\u001b[0;32m/usr/local/lib/python3.7/dist-packages/sklearn/pipeline.py\u001b[0m in \u001b[0;36mpredict\u001b[0;34m(self, X, **predict_params)\u001b[0m\n\u001b[1;32m    467\u001b[0m         \u001b[0mXt\u001b[0m \u001b[0;34m=\u001b[0m \u001b[0mX\u001b[0m\u001b[0;34m\u001b[0m\u001b[0;34m\u001b[0m\u001b[0m\n\u001b[1;32m    468\u001b[0m         \u001b[0;32mfor\u001b[0m \u001b[0m_\u001b[0m\u001b[0;34m,\u001b[0m \u001b[0mname\u001b[0m\u001b[0;34m,\u001b[0m \u001b[0mtransform\u001b[0m \u001b[0;32min\u001b[0m \u001b[0mself\u001b[0m\u001b[0;34m.\u001b[0m\u001b[0m_iter\u001b[0m\u001b[0;34m(\u001b[0m\u001b[0mwith_final\u001b[0m\u001b[0;34m=\u001b[0m\u001b[0;32mFalse\u001b[0m\u001b[0;34m)\u001b[0m\u001b[0;34m:\u001b[0m\u001b[0;34m\u001b[0m\u001b[0;34m\u001b[0m\u001b[0m\n\u001b[0;32m--> 469\u001b[0;31m             \u001b[0mXt\u001b[0m \u001b[0;34m=\u001b[0m \u001b[0mtransform\u001b[0m\u001b[0;34m.\u001b[0m\u001b[0mtransform\u001b[0m\u001b[0;34m(\u001b[0m\u001b[0mXt\u001b[0m\u001b[0;34m)\u001b[0m\u001b[0;34m\u001b[0m\u001b[0;34m\u001b[0m\u001b[0m\n\u001b[0m\u001b[1;32m    470\u001b[0m         \u001b[0;32mreturn\u001b[0m \u001b[0mself\u001b[0m\u001b[0;34m.\u001b[0m\u001b[0msteps\u001b[0m\u001b[0;34m[\u001b[0m\u001b[0;34m-\u001b[0m\u001b[0;36m1\u001b[0m\u001b[0;34m]\u001b[0m\u001b[0;34m[\u001b[0m\u001b[0;36m1\u001b[0m\u001b[0;34m]\u001b[0m\u001b[0;34m.\u001b[0m\u001b[0mpredict\u001b[0m\u001b[0;34m(\u001b[0m\u001b[0mXt\u001b[0m\u001b[0;34m,\u001b[0m \u001b[0;34m**\u001b[0m\u001b[0mpredict_params\u001b[0m\u001b[0;34m)\u001b[0m\u001b[0;34m\u001b[0m\u001b[0;34m\u001b[0m\u001b[0m\n\u001b[1;32m    471\u001b[0m \u001b[0;34m\u001b[0m\u001b[0m\n",
            "\u001b[0;32m/usr/local/lib/python3.7/dist-packages/mne/decoding/transformer.py\u001b[0m in \u001b[0;36mtransform\u001b[0;34m(self, X)\u001b[0m\n\u001b[1;32m    285\u001b[0m         \u001b[0mX\u001b[0m \u001b[0;34m=\u001b[0m \u001b[0mnp\u001b[0m\u001b[0;34m.\u001b[0m\u001b[0masarray\u001b[0m\u001b[0;34m(\u001b[0m\u001b[0mX\u001b[0m\u001b[0;34m)\u001b[0m\u001b[0;34m\u001b[0m\u001b[0;34m\u001b[0m\u001b[0m\n\u001b[1;32m    286\u001b[0m         \u001b[0;32mif\u001b[0m \u001b[0mX\u001b[0m\u001b[0;34m.\u001b[0m\u001b[0mshape\u001b[0m\u001b[0;34m[\u001b[0m\u001b[0;36m1\u001b[0m\u001b[0;34m:\u001b[0m\u001b[0;34m]\u001b[0m \u001b[0;34m!=\u001b[0m \u001b[0mself\u001b[0m\u001b[0;34m.\u001b[0m\u001b[0mfeatures_shape_\u001b[0m\u001b[0;34m:\u001b[0m\u001b[0;34m\u001b[0m\u001b[0;34m\u001b[0m\u001b[0m\n\u001b[0;32m--> 287\u001b[0;31m             raise ValueError(\"Shape of X used in fit and transform must be \"\n\u001b[0m\u001b[1;32m    288\u001b[0m                              \"same\")\n\u001b[1;32m    289\u001b[0m         \u001b[0;32mreturn\u001b[0m \u001b[0mX\u001b[0m\u001b[0;34m.\u001b[0m\u001b[0mreshape\u001b[0m\u001b[0;34m(\u001b[0m\u001b[0mlen\u001b[0m\u001b[0;34m(\u001b[0m\u001b[0mX\u001b[0m\u001b[0;34m)\u001b[0m\u001b[0;34m,\u001b[0m \u001b[0;34m-\u001b[0m\u001b[0;36m1\u001b[0m\u001b[0;34m)\u001b[0m\u001b[0;34m\u001b[0m\u001b[0;34m\u001b[0m\u001b[0m\n",
            "\u001b[0;31mValueError\u001b[0m: Shape of X used in fit and transform must be same"
          ]
        }
      ],
      "source": [
        "# we have slightly different shape of the initial data, improvements required\n",
        "clf.predict(X_test[:9])"
      ]
    },
    {
      "cell_type": "markdown",
      "metadata": {
        "id": "GMQNtluolFpe"
      },
      "source": [
        "Of course, usually we care about cross-validated scores."
      ]
    },
    {
      "cell_type": "code",
      "execution_count": 20,
      "metadata": {
        "id": "uAVXDDDClFpg",
        "colab": {
          "base_uri": "https://localhost:8080/"
        },
        "outputId": "0ab4dada-b745-4f8f-f3aa-6072d4434912"
      },
      "outputs": [
        {
          "output_type": "execute_result",
          "data": {
            "text/plain": [
              "array([0.625     , 0.33333333, 0.375     , 0.39583333, 0.25      ,\n",
              "       0.45833333, 0.66666667, 0.33333333, 0.27083333, 0.47916667])"
            ]
          },
          "metadata": {},
          "execution_count": 20
        }
      ],
      "source": [
        "cross_val_score(clf, X, y, cv=10)  # accuracy"
      ]
    }
  ],
  "metadata": {
    "anaconda-cloud": {},
    "kernelspec": {
      "display_name": "Python [conda env:miniconda3]",
      "language": "python",
      "name": "conda-env-miniconda3-py"
    },
    "language_info": {
      "codemirror_mode": {
        "name": "ipython",
        "version": 3
      },
      "file_extension": ".py",
      "mimetype": "text/x-python",
      "name": "python",
      "nbconvert_exporter": "python",
      "pygments_lexer": "ipython3",
      "version": "3.6.5"
    },
    "colab": {
      "name": "gtec_hackathon_uws_p300.ipynb",
      "provenance": [],
      "include_colab_link": true
    }
  },
  "nbformat": 4,
  "nbformat_minor": 0
}